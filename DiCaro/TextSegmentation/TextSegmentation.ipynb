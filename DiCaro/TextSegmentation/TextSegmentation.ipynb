{
 "cells": [
  {
   "cell_type": "markdown",
   "source": [
    "##%% md\n",
    "### Caricamento del testo dal file e divisione in frasi\n",
    "Come prima cosa leggiamo il testo dal file. Successivamente viene chiamata la funzione *.lower()* sulle frasi per renderle minuscole, togliamo gli spazi vuoti con la funzione *.strip()* e rimuoviamo la punteggiatura grazie all'oggetto *translator*. Infine popoliamo un vettore con le frasi \"tradotte\" e uno con le frasi originali."
   ],
   "metadata": {
    "collapsed": false
   },
   "id": "9ed1ec8a2c31c3b6"
  },
  {
   "cell_type": "code",
   "outputs": [
    {
     "name": "stdout",
     "output_type": "stream",
     "text": [
      "Estratto di real_sentences (prime 10 frasi):\n",
      " [\"Philosophy ('love of wisdom', in Ancient Greek) is a systematic study of general and fundamental questions concerning topics like existence, reason, knowledge, value, mind, and language\", 'It is a rational and critical inquiry that reflects on its own methods and assumptions', 'Historically, many of the individual sciences, such as physics and psychology, formed part of philosophy', 'However, they are considered separate academic disciplines in the modern sense of the term', 'Influential traditions in the history of philosophy include Western, Arabic–Persian, Indian, and Chinese philosophy', 'Western philosophy originated in Ancient Greece and covers a wide area of philosophical subfields', 'A central topic in Arabic–Persian philosophy is the relation between reason and revelation', 'Indian philosophy combines the spiritual problem of how to reach enlightenment with the exploration of the nature of reality and the ways of arriving at knowledge', 'Chinese philosophy focuses principally on practical issues in relation to right social conduct, government, and self-cultivation', 'Major branches of philosophy are epistemology, ethics, logic, and metaphysics'] \n",
      "\n",
      "Estratto di clean_sentences (prime 10 frasi):\n",
      " ['philosophy love of wisdom in ancient greek is a systematic study of general and fundamental questions concerning topics like existence reason knowledge value mind and language', 'it is a rational and critical inquiry that reflects on its own methods and assumptions', 'historically many of the individual sciences such as physics and psychology formed part of philosophy', 'however they are considered separate academic disciplines in the modern sense of the term', 'influential traditions in the history of philosophy include western arabic–persian indian and chinese philosophy', 'western philosophy originated in ancient greece and covers a wide area of philosophical subfields', 'a central topic in arabic–persian philosophy is the relation between reason and revelation', 'indian philosophy combines the spiritual problem of how to reach enlightenment with the exploration of the nature of reality and the ways of arriving at knowledge', 'chinese philosophy focuses principally on practical issues in relation to right social conduct government and selfcultivation', 'major branches of philosophy are epistemology ethics logic and metaphysics']\n"
     ]
    }
   ],
   "source": [
    "import string\n",
    "f = open(f\"./text1.txt\", \"r\")\n",
    "translator = str.maketrans('', '', string.punctuation)\n",
    "sentences_translated = []\n",
    "sentences = []\n",
    "for lines in f.readlines():\n",
    "    sentences += [line.strip() for line in lines.split('.')]\n",
    "    sentences_translated += [line.lower().strip().translate(translator) for line in lines.split('.')]\n",
    "\n",
    "real_sentences = []\n",
    "for sentence in sentences:\n",
    "    if len(sentence.split(' ')) > 1:\n",
    "        real_sentences.append(sentence)\n",
    "\n",
    "clean_sentences = []\n",
    "for sentence in sentences_translated:\n",
    "    if len(sentence.split(' ')) > 1:\n",
    "        clean_sentences.append(sentence)\n",
    "print(\"Estratto di real_sentences (prime 10 frasi):\\n\", real_sentences[0:10], \"\\n\")\n",
    "print(\"Estratto di clean_sentences (prime 10 frasi):\\n\", clean_sentences[0:10])"
   ],
   "metadata": {
    "collapsed": false,
    "ExecuteTime": {
     "end_time": "2024-06-17T10:10:06.270818Z",
     "start_time": "2024-06-17T10:10:06.261120Z"
    }
   },
   "id": "6b37d7e4365a7a96",
   "execution_count": 14
  },
  {
   "cell_type": "markdown",
   "source": [
    "### Creazione dei blocchi\n",
    "Creiamo i blocchi con una dimensione definita a priori e li riempiamo con le frasi ricavate dalla lettura del file.\n",
    "Nel caso in cui l'ultimo blocco non venga completamente riempito, andiamo ad aggiungere tente frasi vuote ('') quante sono quelle che mancano per completare il blocco."
   ],
   "metadata": {
    "collapsed": false
   },
   "id": "f48cf5a760c4bea8"
  },
  {
   "cell_type": "code",
   "execution_count": 15,
   "id": "af47576b50e070d4",
   "metadata": {
    "collapsed": false,
    "ExecuteTime": {
     "end_time": "2024-06-17T10:10:12.528836Z",
     "start_time": "2024-06-17T10:10:12.521470Z"
    }
   },
   "outputs": [
    {
     "name": "stdout",
     "output_type": "stream",
     "text": [
      "Estratto di blocks (primi 10 blocchi)\n",
      "0 blocco: ['philosophy love of wisdom in ancient greek is a systematic study of general and fundamental questions concerning topics like existence reason knowledge value mind and language', 'it is a rational and critical inquiry that reflects on its own methods and assumptions', 'historically many of the individual sciences such as physics and psychology formed part of philosophy', 'however they are considered separate academic disciplines in the modern sense of the term']\n",
      "1 blocco: ['influential traditions in the history of philosophy include western arabic–persian indian and chinese philosophy', 'western philosophy originated in ancient greece and covers a wide area of philosophical subfields', 'a central topic in arabic–persian philosophy is the relation between reason and revelation', 'indian philosophy combines the spiritual problem of how to reach enlightenment with the exploration of the nature of reality and the ways of arriving at knowledge']\n",
      "2 blocco: ['chinese philosophy focuses principally on practical issues in relation to right social conduct government and selfcultivation', 'major branches of philosophy are epistemology ethics logic and metaphysics', 'epistemology studies what knowledge is and how to acquire it', 'ethics investigates moral principles and what constitutes right conduct']\n",
      "3 blocco: ['logic is the study of correct reasoning and explores how good arguments can be distinguished from bad ones', 'metaphysics examines the most general features of reality existence objects and properties', 'other subfields are aesthetics philosophy of language philosophy of mind philosophy of religion philosophy of science philosophy of mathematics philosophy of history and political philosophy', 'within each branch there are competing schools of philosophy that promote different principles theories or methods']\n",
      "4 blocco: ['philosophers use a great variety of methods to arrive at philosophical knowledge', 'they include conceptual analysis reliance on common sense and intuitions use of thought experiments analysis of ordinary language description of experience and critical questioning', 'philosophy is related to many other fields including the sciences mathematics business law and journalism', 'it provides an interdisciplinary perspective and studies the scope and fundamental concepts of these fields']\n",
      "5 blocco: ['it also investigates their methods and ethical implications', 'the word philosophy comes from the ancient greek words philos love and sophia wisdom', 'some sources say that the term was coined by the presocratic philosopher pythagoras but this is not certain', 'the word entered the english language primarily from old french and anglonorman starting around 1175 ce']\n",
      "6 blocco: ['the french philosophie is itself a borrowing from the latin philosophia', 'the term philosophy acquired the meanings of advanced study of the speculative subjects logic ethics physics and metaphysics deep wisdom consisting of love of truth and virtuous living profound learning as transmitted by the ancient writers and the study of the fundamental nature of knowledge reality and existence and the basic limits of human understanding', 'before the modern age the term philosophy was used in a wide sense', 'it included most forms of rational inquiry such as the individual sciences as its subdisciplines']\n",
      "7 blocco: ['for instance natural philosophy was a major branch of philosophy', 'this branch of philosophy encompassed a wide range of fields including disciplines like physics chemistry and biology', 'an example of this usage is the 1687 book philosophi naturalis principia mathematica by isaac newton', 'this book referred to natural philosophy in its title but it is today considered a book of physics']\n",
      "8 blocco: ['the meaning of philosophy changed toward the end of the modern period when it acquired the more narrow meaning common today', 'in this new sense the term is mainly associated with philosophical disciplines like metaphysics epistemology and ethics', 'among other topics it covers the rational study of reality knowledge and values', 'it is distinguished from other disciplines of rational inquiry such as the empirical sciences and mathematics']\n",
      "9 blocco: ['western philosophy originated in ancient greece in the 6th century bce with the presocratics', 'they attempted to provide rational explanations of the cosmos as a whole', 'the philosophy following them was shaped by socrates 469–399 bce plato 427–347 bce and aristotle 384–322 bce', 'they expanded the range of topics to questions like how people should act how to arrive at knowledge and what the nature of reality and mind is']\n"
     ]
    }
   ],
   "source": [
    "block_size = 4\n",
    "blocks = []\n",
    "i = 0\n",
    "while i < len(clean_sentences):\n",
    "    blocks.append(clean_sentences[i:i + block_size])\n",
    "    i += block_size\n",
    "\n",
    "length = len(blocks[-1])\n",
    "if length < block_size:\n",
    "    j = length - 1\n",
    "    while j < block_size - 1:\n",
    "        blocks[-1].append('')\n",
    "        j += 1\n",
    "\n",
    "print(\"Estratto di blocks (primi 10 blocchi)\")\n",
    "for n in range(10):\n",
    "    print(f'{n} blocco: {blocks[n]}')\n",
    "        "
   ]
  },
  {
   "cell_type": "markdown",
   "source": [
    "### Inizializziamo il vettore che conterrà i valori di similarità tra i blocchi in cui è stato diviso il testo. I valori contenuti in questo vettore verrano visualizzati sul grafico di output."
   ],
   "metadata": {
    "collapsed": false
   },
   "id": "eb060da1c9c38b05"
  },
  {
   "cell_type": "code",
   "outputs": [
    {
     "name": "stdout",
     "output_type": "stream",
     "text": [
      "Vettore di plot, di lunghezza 37 inizializzato a 0: \n",
      " [0.0, 0.0, 0.0, 0.0, 0.0, 0.0, 0.0, 0.0, 0.0, 0.0, 0.0, 0.0, 0.0, 0.0, 0.0, 0.0, 0.0, 0.0, 0.0, 0.0, 0.0, 0.0, 0.0, 0.0, 0.0, 0.0, 0.0, 0.0, 0.0, 0.0, 0.0, 0.0, 0.0, 0.0, 0.0, 0.0, 0.0]\n"
     ]
    }
   ],
   "source": [
    "if len(clean_sentences) % block_size != 0:\n",
    "    plot = [0.0] * (int((len(clean_sentences) / block_size)))\n",
    "else:\n",
    "    plot = [0.0] * (int((len(clean_sentences) / block_size)) - 1)\n",
    "\n",
    "print(f'Vettore di plot, di lunghezza {len(plot)} inizializzato a 0: \\n {plot}')"
   ],
   "metadata": {
    "collapsed": false,
    "ExecuteTime": {
     "end_time": "2024-06-17T10:10:19.014580Z",
     "start_time": "2024-06-17T10:10:19.008673Z"
    }
   },
   "id": "38b3d1ca65a51bfe",
   "execution_count": 16
  },
  {
   "cell_type": "markdown",
   "source": [
    "### Calcolo della cohesion tra due blocchi adiacenti\n",
    "Per calcolare la similarità tra due blocchi abbiamo utilizzato la cosine similarity. Come prima cosa creiamo le rappresentazioni vettoriali per i due blocchi adiacenti che stiamo considerando. I vettori che rappresentano i blocchi hanno lunghezza pari al vocabolario (ovvero il numero di parole utilizzate nei due blocchi senza considerare le stopwords) e in ogni posizione sarà presente la frequenza della parola *i* nel blocco di riferimento.\n",
    "Infine si calcola la cohesion utilizzando la formula della cosine similarity sui due vettori calcolati precedentemente."
   ],
   "metadata": {
    "collapsed": false
   },
   "id": "64fb55adcd4668a7"
  },
  {
   "cell_type": "code",
   "outputs": [
    {
     "name": "stdout",
     "output_type": "stream",
     "text": [
      "Vector reppresenting block[0]\n",
      "vector1:[2, 1, 1, 1, 1, 1, 1, 1, 1, 1, 1, 1, 1, 1, 1, 1, 1, 1, 1, 1, 1, 1, 1, 1, 1, 1, 1, 1, 1, 1, 1, 1, 1, 1, 1, 1, 1, 1, 1, 1, 1, 0, 0, 0, 0, 0, 0, 0, 0, 0, 0, 0, 0, 0, 0, 0, 0, 0, 0, 0, 0, 0, 0, 0, 0, 0, 0, 0, 0, 0]\n",
      "Vector reppresenting block[1]\n",
      "vector2:[5, 0, 0, 1, 0, 0, 0, 0, 0, 0, 0, 0, 0, 0, 1, 1, 0, 0, 0, 0, 0, 0, 0, 0, 0, 0, 0, 0, 0, 0, 0, 0, 0, 0, 0, 0, 0, 0, 0, 0, 0, 1, 1, 1, 1, 2, 2, 2, 1, 1, 1, 1, 1, 1, 1, 1, 1, 1, 1, 1, 1, 1, 1, 1, 1, 1, 1, 1, 1, 1]\n",
      "Cohesion tra vector1 e vector2: 0.24123762618319178\n",
      "--------------------------------------------------------\n",
      "Vector reppresenting block[1]\n",
      "vector1:[1, 1, 1, 5, 1, 2, 2, 2, 1, 1, 1, 1, 1, 1, 1, 1, 1, 1, 1, 1, 1, 1, 1, 1, 1, 1, 1, 1, 1, 1, 1, 1, 1, 0, 0, 0, 0, 0, 0, 0, 0, 0, 0, 0, 0, 0, 0, 0, 0, 0, 0, 0, 0, 0]\n",
      "Vector reppresenting block[2]\n",
      "vector2:[0, 0, 0, 2, 0, 0, 0, 0, 1, 0, 0, 0, 0, 0, 0, 0, 0, 0, 0, 1, 0, 0, 0, 0, 0, 0, 0, 0, 0, 0, 0, 0, 1, 1, 1, 1, 1, 2, 1, 2, 1, 1, 1, 1, 2, 2, 1, 1, 1, 1, 1, 1, 1, 1]\n",
      "Cohesion tra vector1 e vector2: 0.25301215685249495\n",
      "--------------------------------------------------------\n",
      "Vector reppresenting block[2]\n",
      "vector1:[1, 2, 1, 1, 1, 1, 1, 2, 1, 2, 1, 1, 1, 1, 2, 2, 1, 1, 1, 1, 1, 1, 1, 1, 1, 0, 0, 0, 0, 0, 0, 0, 0, 0, 0, 0, 0, 0, 0, 0, 0, 0, 0, 0, 0, 0, 0, 0, 0, 0, 0, 0, 0, 0, 0, 0, 0, 0]\n",
      "Vector reppresenting block[3]\n",
      "vector2:[0, 8, 0, 0, 0, 0, 0, 0, 0, 0, 0, 0, 0, 0, 0, 0, 1, 1, 0, 0, 0, 0, 0, 1, 0, 1, 1, 1, 1, 1, 1, 1, 1, 1, 1, 1, 1, 1, 1, 1, 1, 1, 1, 1, 1, 1, 1, 1, 1, 1, 1, 1, 1, 1, 1, 1, 1, 1]\n",
      "Cohesion tra vector1 e vector2: 0.300416377715996\n",
      "--------------------------------------------------------\n",
      "Vector reppresenting block[3]\n",
      "vector1:[1, 1, 1, 1, 1, 1, 1, 1, 1, 1, 1, 1, 1, 1, 1, 1, 1, 1, 1, 1, 8, 1, 1, 1, 1, 1, 1, 1, 1, 1, 1, 1, 1, 1, 1, 1, 1, 0, 0, 0, 0, 0, 0, 0, 0, 0, 0, 0, 0, 0, 0, 0, 0, 0, 0, 0, 0, 0, 0, 0, 0, 0, 0, 0, 0, 0, 0, 0, 0, 0, 0, 0, 0]\n",
      "Vector reppresenting block[4]\n",
      "vector2:[0, 0, 0, 0, 0, 0, 0, 0, 0, 0, 0, 0, 0, 0, 0, 0, 0, 0, 0, 0, 1, 1, 0, 0, 0, 1, 0, 0, 0, 0, 0, 0, 0, 0, 0, 0, 1, 1, 2, 1, 1, 1, 1, 1, 1, 1, 2, 1, 1, 1, 1, 1, 1, 1, 1, 1, 1, 1, 1, 1, 2, 1, 1, 1, 1, 1, 1, 1, 1, 1, 1, 1, 1]\n",
      "Cohesion tra vector1 e vector2: 0.15714285714285714\n",
      "--------------------------------------------------------\n",
      "Vector reppresenting block[4]\n",
      "vector1:[1, 2, 1, 1, 1, 1, 1, 1, 1, 1, 2, 1, 1, 1, 1, 1, 1, 1, 1, 1, 1, 1, 1, 1, 1, 1, 2, 1, 1, 1, 1, 1, 1, 1, 1, 1, 1, 1, 1, 1, 0, 0, 0, 0, 0, 0, 0, 0, 0, 0, 0, 0, 0, 0, 0, 0, 0, 0, 0, 0, 0, 0, 0, 0, 0, 0, 0, 0, 0, 0, 0]\n",
      "Vector reppresenting block[5]\n",
      "vector2:[0, 0, 0, 0, 1, 0, 0, 0, 0, 0, 0, 0, 0, 0, 0, 0, 0, 0, 1, 0, 0, 0, 0, 1, 0, 0, 0, 0, 0, 0, 0, 0, 0, 0, 0, 0, 0, 0, 0, 0, 1, 1, 1, 1, 2, 1, 1, 1, 1, 1, 1, 1, 1, 1, 1, 1, 1, 1, 1, 1, 1, 1, 1, 1, 1, 1, 1, 1, 1, 1, 1]\n",
      "Cohesion tra vector1 e vector2: 0.07045670884515312\n",
      "--------------------------------------------------------\n",
      "Vector reppresenting block[5]\n",
      "vector1:[1, 1, 1, 1, 1, 2, 1, 1, 1, 1, 1, 1, 1, 1, 1, 1, 1, 1, 1, 1, 1, 1, 1, 1, 1, 1, 1, 1, 1, 1, 1, 1, 1, 1, 0, 0, 0, 0, 0, 0, 0, 0, 0, 0, 0, 0, 0, 0, 0, 0, 0, 0, 0, 0, 0, 0, 0, 0, 0, 0, 0, 0, 0, 0, 0, 0, 0, 0, 0, 0, 0, 0, 0, 0, 0, 0, 0, 0]\n",
      "Vector reppresenting block[6]\n",
      "vector2:[0, 0, 0, 0, 0, 0, 2, 0, 1, 0, 0, 0, 1, 0, 1, 0, 0, 2, 0, 0, 0, 0, 0, 0, 0, 0, 0, 0, 1, 0, 0, 0, 0, 0, 1, 1, 1, 1, 1, 1, 1, 2, 1, 1, 1, 1, 1, 1, 1, 1, 1, 1, 1, 1, 1, 1, 1, 1, 1, 1, 1, 1, 1, 1, 1, 1, 1, 1, 1, 1, 1, 1, 1, 1, 1, 1, 1, 1]\n",
      "Cohesion tra vector1 e vector2: 0.17122340098907804\n",
      "--------------------------------------------------------\n",
      "Vector reppresenting block[6]\n",
      "vector1:[1, 1, 1, 1, 1, 2, 2, 1, 1, 1, 2, 1, 1, 1, 1, 1, 1, 1, 1, 1, 1, 1, 1, 1, 1, 1, 1, 1, 1, 1, 1, 1, 1, 1, 1, 1, 1, 1, 1, 1, 1, 1, 1, 1, 1, 1, 1, 1, 1, 1, 0, 0, 0, 0, 0, 0, 0, 0, 0, 0, 0, 0, 0, 0, 0, 0, 0, 0, 0, 0, 0, 0, 0, 0, 0, 0]\n",
      "Vector reppresenting block[7]\n",
      "vector2:[0, 0, 0, 0, 0, 0, 4, 0, 0, 0, 0, 0, 0, 0, 0, 2, 0, 0, 0, 0, 0, 0, 0, 0, 0, 0, 0, 0, 0, 0, 0, 0, 0, 0, 0, 0, 0, 0, 0, 0, 0, 1, 0, 0, 0, 0, 0, 0, 0, 0, 1, 2, 1, 2, 1, 1, 1, 1, 1, 1, 1, 1, 1, 1, 1, 3, 1, 1, 1, 1, 1, 1, 1, 1, 1, 1]\n",
      "Cohesion tra vector1 e vector2: 0.18335880160230852\n",
      "--------------------------------------------------------\n",
      "Vector reppresenting block[7]\n",
      "vector1:[1, 2, 4, 1, 2, 1, 1, 1, 1, 1, 1, 1, 2, 1, 1, 1, 1, 1, 3, 1, 1, 1, 1, 1, 1, 1, 1, 1, 1, 0, 0, 0, 0, 0, 0, 0, 0, 0, 0, 0, 0, 0, 0, 0, 0, 0, 0, 0, 0, 0, 0, 0, 0, 0, 0, 0, 0, 0, 0, 0]\n",
      "Vector reppresenting block[8]\n",
      "vector2:[0, 0, 1, 0, 0, 0, 0, 0, 0, 0, 2, 1, 0, 0, 0, 0, 0, 0, 0, 0, 0, 0, 0, 0, 0, 0, 0, 1, 0, 2, 1, 1, 1, 1, 1, 1, 1, 1, 1, 1, 1, 1, 1, 1, 1, 1, 1, 1, 1, 1, 2, 1, 1, 1, 1, 1, 1, 1, 1, 1]\n",
      "Cohesion tra vector1 e vector2: 0.15441828729643658\n",
      "--------------------------------------------------------\n",
      "Vector reppresenting block[8]\n",
      "vector1:[2, 1, 1, 1, 1, 1, 1, 1, 1, 1, 1, 1, 1, 1, 1, 1, 1, 2, 1, 1, 1, 1, 1, 1, 1, 2, 1, 1, 1, 1, 1, 1, 1, 1, 1, 0, 0, 0, 0, 0, 0, 0, 0, 0, 0, 0, 0, 0, 0, 0, 0, 0, 0, 0, 0, 0, 0, 0, 0, 0, 0, 0, 0, 0]\n",
      "Vector reppresenting block[9]\n",
      "vector2:[0, 2, 0, 0, 0, 0, 0, 0, 0, 0, 0, 0, 0, 0, 0, 0, 0, 0, 1, 0, 0, 0, 0, 1, 0, 1, 0, 1, 1, 0, 0, 0, 0, 0, 0, 1, 1, 1, 1, 1, 1, 4, 1, 1, 1, 1, 1, 1, 1, 1, 1, 1, 1, 1, 1, 1, 1, 1, 1, 1, 1, 1, 1, 1]\n",
      "Cohesion tra vector1 e vector2: 0.16566307331251645\n",
      "--------------------------------------------------------\n",
      "Vector reppresenting block[9]\n",
      "vector1:[1, 2, 1, 1, 1, 1, 1, 4, 1, 1, 1, 1, 1, 1, 1, 1, 1, 1, 1, 1, 1, 1, 1, 1, 1, 1, 1, 1, 1, 1, 1, 1, 1, 1, 1, 0, 0, 0, 0, 0, 0, 0, 0, 0, 0, 0, 0, 0, 0, 0, 0, 0, 0, 0, 0, 0, 0, 0, 0, 0, 0, 0, 0, 0, 0, 0, 0, 0]\n",
      "Vector reppresenting block[10]\n",
      "vector2:[0, 2, 0, 3, 0, 0, 2, 0, 0, 0, 0, 0, 0, 0, 0, 0, 0, 0, 0, 0, 0, 0, 0, 0, 0, 1, 0, 0, 0, 0, 0, 0, 0, 0, 0, 1, 1, 3, 1, 1, 1, 1, 1, 1, 1, 1, 1, 1, 2, 1, 1, 1, 1, 1, 1, 1, 1, 1, 1, 1, 1, 1, 1, 1, 1, 1, 1, 1]\n",
      "Cohesion tra vector1 e vector2: 0.17444809066301295\n",
      "--------------------------------------------------------\n",
      "Vector reppresenting block[10]\n",
      "vector1:[1, 1, 3, 3, 1, 1, 1, 1, 1, 1, 1, 1, 1, 1, 2, 1, 2, 1, 1, 1, 1, 1, 1, 1, 2, 1, 1, 1, 1, 1, 1, 1, 1, 1, 1, 1, 1, 0, 0, 0, 0, 0, 0, 0, 0, 0, 0, 0, 0, 0, 0, 0, 0, 0, 0]\n",
      "Vector reppresenting block[11]\n",
      "vector2:[0, 0, 0, 2, 0, 0, 1, 0, 0, 0, 0, 0, 0, 0, 1, 0, 1, 0, 0, 0, 0, 0, 0, 0, 0, 0, 0, 0, 0, 0, 0, 0, 0, 0, 0, 0, 0, 1, 1, 1, 1, 1, 1, 1, 1, 1, 1, 1, 1, 1, 1, 1, 1, 1, 1]\n",
      "Cohesion tra vector1 e vector2: 0.2794002794004191\n",
      "--------------------------------------------------------\n",
      "Vector reppresenting block[11]\n",
      "vector1:[1, 1, 1, 2, 1, 1, 1, 1, 1, 1, 1, 1, 1, 1, 1, 1, 1, 1, 1, 1, 1, 1, 0, 0, 0, 0, 0, 0, 0, 0, 0, 0, 0, 0, 0, 0, 0, 0, 0, 0, 0, 0, 0, 0, 0, 0, 0, 0, 0, 0, 0, 0, 0, 0, 0, 0, 0, 0, 0, 0, 0, 0, 0, 0, 0, 0, 0, 0, 0, 0]\n",
      "Vector reppresenting block[12]\n",
      "vector2:[0, 0, 0, 0, 0, 0, 0, 2, 0, 0, 0, 1, 0, 0, 0, 0, 0, 0, 1, 0, 0, 0, 1, 1, 1, 1, 1, 1, 1, 1, 1, 1, 1, 1, 1, 4, 1, 1, 1, 1, 1, 1, 1, 1, 1, 1, 1, 1, 1, 1, 1, 1, 1, 1, 1, 1, 1, 1, 1, 1, 1, 1, 1, 2, 1, 1, 1, 1, 1, 1]\n",
      "Cohesion tra vector1 e vector2: 0.09428090415820635\n",
      "--------------------------------------------------------\n",
      "Vector reppresenting block[12]\n",
      "vector1:[1, 1, 1, 1, 1, 1, 1, 1, 1, 1, 1, 1, 1, 4, 1, 1, 2, 1, 1, 1, 1, 1, 1, 1, 1, 1, 1, 1, 1, 1, 1, 1, 1, 1, 1, 1, 1, 1, 1, 1, 1, 1, 1, 2, 1, 1, 1, 1, 1, 1, 1, 0, 0, 0, 0, 0, 0, 0, 0, 0, 0, 0, 0, 0, 0, 0, 0, 0, 0, 0, 0, 0, 0, 0, 0, 0, 0, 0, 0, 0, 0, 0, 0, 0, 0, 0, 0, 0, 0, 0, 0, 0, 0, 0, 0, 0, 0, 0, 0, 0, 0, 0, 0, 0]\n",
      "Vector reppresenting block[13]\n",
      "vector2:[0, 0, 0, 0, 0, 0, 0, 0, 0, 0, 0, 0, 0, 0, 0, 0, 0, 0, 0, 0, 0, 1, 0, 0, 0, 0, 0, 0, 0, 0, 0, 0, 0, 0, 0, 0, 0, 0, 0, 0, 0, 0, 0, 0, 0, 1, 0, 0, 1, 0, 0, 1, 1, 1, 1, 1, 1, 1, 1, 3, 1, 1, 1, 1, 1, 1, 1, 1, 1, 1, 1, 1, 1, 1, 1, 1, 1, 1, 1, 1, 1, 1, 1, 1, 1, 1, 1, 1, 1, 1, 1, 1, 1, 1, 1, 1, 1, 1, 2, 1, 1, 1, 1, 1]\n",
      "Cohesion tra vector1 e vector2: 0.04319342127906801\n",
      "--------------------------------------------------------\n",
      "Vector reppresenting block[13]\n",
      "vector1:[1, 1, 1, 1, 1, 1, 1, 1, 1, 1, 3, 1, 1, 1, 1, 1, 1, 1, 1, 1, 1, 1, 1, 1, 1, 1, 1, 1, 1, 1, 1, 1, 1, 1, 1, 1, 1, 1, 1, 1, 1, 1, 1, 1, 1, 1, 1, 1, 1, 1, 2, 1, 1, 1, 1, 1, 0, 0, 0, 0, 0, 0, 0, 0, 0, 0, 0, 0, 0, 0, 0, 0, 0, 0, 0, 0, 0, 0, 0, 0, 0, 0, 0, 0, 0, 0, 0, 0, 0, 0, 0, 0, 0, 0, 0, 0, 0, 0, 0, 0, 0, 0, 0, 0, 0, 0, 0, 0, 0, 0, 0, 0, 0, 0, 0, 0, 0, 0, 0, 0, 0, 0, 0, 0, 0, 0, 0, 0, 0, 0, 0, 0, 0]\n",
      "Vector reppresenting block[14]\n",
      "vector2:[0, 0, 0, 1, 0, 0, 0, 0, 0, 0, 0, 0, 0, 0, 0, 0, 0, 0, 0, 0, 0, 0, 0, 0, 1, 0, 1, 1, 1, 0, 0, 0, 0, 0, 0, 0, 0, 0, 0, 0, 0, 0, 0, 0, 0, 0, 0, 0, 0, 0, 0, 0, 0, 0, 0, 0, 2, 1, 1, 1, 1, 1, 1, 1, 1, 1, 1, 1, 2, 2, 2, 1, 1, 1, 1, 2, 2, 1, 1, 1, 1, 1, 1, 1, 1, 3, 2, 1, 1, 1, 1, 3, 1, 1, 3, 1, 1, 1, 1, 1, 1, 1, 1, 1, 2, 2, 1, 1, 1, 1, 1, 2, 1, 1, 2, 2, 1, 1, 1, 1, 1, 1, 1, 1, 1, 1, 1, 1, 1, 1, 1, 1, 1]\n",
      "Cohesion tra vector1 e vector2: 0.051261160128637996\n",
      "--------------------------------------------------------\n",
      "Vector reppresenting block[14]\n",
      "vector1:[2, 1, 1, 1, 1, 1, 1, 1, 1, 1, 1, 1, 2, 2, 2, 1, 1, 1, 1, 2, 2, 1, 1, 1, 1, 1, 1, 1, 1, 3, 2, 1, 1, 1, 1, 3, 1, 1, 3, 1, 1, 1, 1, 1, 1, 1, 1, 1, 2, 2, 1, 1, 1, 1, 1, 2, 1, 1, 2, 1, 2, 1, 1, 1, 1, 1, 1, 1, 1, 1, 1, 1, 1, 1, 1, 1, 1, 1, 1, 1, 1, 1, 0, 0, 0, 0, 0, 0, 0, 0, 0, 0, 0, 0, 0, 0, 0, 0, 0, 0, 0, 0, 0, 0, 0, 0, 0, 0, 0, 0, 0, 0, 0, 0, 0, 0, 0, 0, 0, 0, 0, 0, 0, 0, 0, 0, 0, 0, 0, 0, 0, 0, 0]\n",
      "Vector reppresenting block[15]\n",
      "vector2:[0, 0, 0, 0, 0, 0, 0, 0, 0, 1, 0, 0, 0, 1, 0, 0, 0, 0, 0, 0, 0, 0, 0, 0, 0, 0, 0, 0, 1, 0, 0, 0, 1, 0, 0, 1, 0, 0, 4, 0, 0, 0, 0, 0, 0, 0, 0, 0, 5, 0, 0, 1, 0, 0, 0, 0, 0, 0, 0, 0, 1, 1, 0, 0, 0, 0, 0, 0, 0, 0, 0, 0, 0, 0, 0, 0, 0, 1, 0, 0, 0, 0, 1, 1, 1, 1, 1, 1, 1, 1, 1, 1, 1, 1, 1, 1, 1, 1, 1, 1, 1, 1, 1, 1, 1, 1, 2, 2, 1, 1, 1, 1, 1, 1, 1, 1, 1, 1, 1, 1, 1, 1, 1, 1, 1, 1, 1, 1, 1, 1, 1, 1, 1]\n",
      "Cohesion tra vector1 e vector2: 0.28394353399730926\n",
      "--------------------------------------------------------\n",
      "Vector reppresenting block[15]\n",
      "vector1:[1, 5, 1, 1, 1, 1, 1, 1, 1, 1, 1, 1, 1, 1, 1, 1, 1, 1, 1, 4, 1, 1, 1, 1, 1, 1, 1, 1, 1, 1, 1, 1, 2, 2, 1, 1, 1, 1, 1, 1, 1, 1, 1, 1, 1, 1, 1, 1, 1, 1, 1, 1, 1, 1, 1, 1, 1, 1, 1, 1, 1, 1, 0, 0, 0, 0, 0, 0, 0, 0, 0, 0, 0, 0, 0, 0, 0, 0, 0, 0, 0, 0, 0, 0, 0, 0, 0, 0, 0, 0, 0, 0, 0, 0, 0, 0, 0, 0, 0, 0, 0, 0, 0, 0, 0, 0, 0, 0, 0, 0, 0, 0, 0, 0]\n",
      "Vector reppresenting block[16]\n",
      "vector2:[0, 0, 0, 0, 0, 0, 0, 0, 0, 0, 0, 0, 0, 0, 0, 0, 0, 0, 0, 0, 0, 0, 0, 0, 0, 0, 0, 0, 0, 0, 0, 0, 0, 0, 0, 0, 0, 0, 0, 0, 0, 0, 0, 0, 0, 0, 0, 0, 0, 0, 0, 0, 1, 1, 2, 0, 0, 1, 0, 0, 0, 0, 1, 1, 1, 1, 1, 1, 1, 1, 1, 1, 1, 1, 1, 1, 1, 1, 1, 1, 1, 1, 1, 1, 1, 1, 1, 1, 1, 1, 1, 1, 1, 1, 1, 1, 1, 1, 1, 1, 1, 1, 1, 1, 1, 1, 1, 1, 1, 1, 1, 1, 1, 1]\n",
      "Cohesion tra vector1 e vector2: 0.06292918535714005\n",
      "--------------------------------------------------------\n",
      "Vector reppresenting block[16]\n",
      "vector1:[1, 1, 1, 1, 1, 1, 1, 1, 1, 1, 1, 1, 1, 1, 1, 2, 1, 1, 1, 1, 1, 1, 1, 1, 1, 1, 1, 1, 1, 1, 1, 1, 1, 1, 1, 1, 1, 1, 1, 1, 1, 1, 1, 1, 1, 1, 1, 1, 1, 1, 1, 1, 1, 1, 1, 1, 0, 0, 0, 0, 0, 0, 0, 0, 0, 0, 0, 0, 0, 0, 0, 0, 0, 0, 0, 0, 0, 0, 0, 0, 0, 0, 0, 0, 0, 0, 0, 0, 0, 0, 0, 0, 0, 0, 0, 0, 0, 0, 0, 0, 0, 0, 0, 0, 0, 0, 0]\n",
      "Vector reppresenting block[17]\n",
      "vector2:[0, 0, 0, 0, 0, 0, 0, 0, 0, 0, 0, 0, 0, 0, 0, 0, 0, 0, 0, 0, 0, 0, 0, 0, 0, 0, 0, 2, 0, 0, 0, 0, 0, 0, 0, 0, 0, 0, 0, 0, 0, 0, 0, 0, 0, 0, 0, 0, 0, 1, 0, 0, 0, 0, 0, 0, 1, 1, 1, 3, 1, 1, 2, 1, 1, 1, 1, 3, 2, 1, 1, 1, 1, 1, 1, 1, 1, 1, 5, 1, 1, 1, 2, 1, 1, 1, 1, 1, 1, 2, 1, 2, 2, 1, 1, 1, 1, 1, 1, 1, 1, 1, 1, 1, 1, 1, 1]\n",
      "Cohesion tra vector1 e vector2: 0.03657992605497355\n",
      "--------------------------------------------------------\n",
      "Vector reppresenting block[17]\n",
      "vector1:[1, 1, 1, 3, 1, 1, 1, 2, 1, 2, 1, 1, 1, 3, 2, 1, 1, 1, 1, 1, 1, 1, 1, 1, 5, 1, 1, 1, 2, 1, 1, 1, 1, 1, 1, 2, 1, 2, 2, 1, 1, 1, 1, 1, 1, 1, 1, 1, 1, 1, 1, 1, 1, 0, 0, 0, 0, 0, 0, 0, 0, 0, 0, 0, 0, 0, 0, 0, 0, 0, 0, 0, 0, 0, 0, 0, 0, 0, 0, 0, 0, 0, 0, 0, 0, 0, 0, 0, 0, 0, 0, 0, 0, 0, 0, 0, 0, 0, 0, 0, 0, 0, 0, 0, 0, 0, 0, 0]\n",
      "Vector reppresenting block[18]\n",
      "vector2:[0, 0, 0, 0, 0, 0, 0, 0, 0, 1, 0, 0, 0, 1, 0, 0, 0, 0, 0, 0, 0, 0, 0, 0, 0, 0, 0, 0, 0, 0, 0, 0, 0, 0, 0, 1, 0, 4, 2, 0, 0, 0, 0, 0, 0, 0, 0, 0, 0, 0, 1, 3, 0, 1, 1, 2, 1, 1, 2, 2, 1, 1, 1, 1, 1, 1, 1, 1, 2, 2, 1, 1, 1, 2, 1, 2, 1, 1, 1, 1, 1, 1, 1, 1, 1, 1, 1, 1, 1, 1, 1, 1, 1, 1, 1, 1, 1, 1, 1, 1, 1, 1, 1, 1, 1, 1, 1, 1]\n",
      "Cohesion tra vector1 e vector2: 0.20632989700057017\n",
      "--------------------------------------------------------\n",
      "Vector reppresenting block[18]\n",
      "vector1:[1, 1, 1, 2, 1, 1, 1, 3, 2, 2, 1, 4, 2, 1, 1, 1, 1, 1, 1, 1, 1, 1, 2, 2, 1, 1, 1, 2, 1, 2, 1, 1, 1, 1, 1, 1, 1, 1, 1, 1, 1, 1, 1, 1, 1, 1, 1, 1, 1, 1, 1, 1, 1, 1, 1, 1, 1, 1, 1, 1, 1, 1, 0, 0, 0, 0, 0, 0, 0, 0, 0, 0, 0, 0, 0, 0, 0, 0, 0, 0, 0, 0, 0, 0, 0, 0, 0, 0, 0, 0, 0]\n",
      "Vector reppresenting block[19]\n",
      "vector2:[0, 0, 0, 0, 0, 0, 0, 0, 0, 0, 0, 0, 0, 0, 0, 0, 0, 0, 0, 0, 0, 0, 0, 0, 0, 0, 0, 4, 1, 0, 1, 0, 0, 0, 0, 0, 0, 0, 0, 0, 0, 0, 0, 0, 0, 0, 0, 0, 0, 0, 0, 0, 0, 0, 0, 0, 0, 0, 0, 0, 0, 0, 1, 1, 1, 1, 1, 1, 1, 1, 2, 1, 1, 1, 1, 1, 1, 1, 1, 1, 1, 1, 1, 1, 1, 1, 1, 1, 1, 1, 1]\n",
      "Cohesion tra vector1 e vector2: 0.13545709229571926\n",
      "--------------------------------------------------------\n",
      "Vector reppresenting block[19]\n",
      "vector1:[1, 1, 1, 1, 1, 1, 4, 1, 1, 2, 1, 1, 1, 1, 1, 1, 1, 1, 1, 1, 1, 1, 1, 1, 1, 1, 1, 1, 1, 1, 1, 1, 0, 0, 0, 0, 0, 0, 0, 0, 0, 0, 0, 0, 0, 0, 0, 0, 0, 0, 0, 0, 0, 0, 0, 0, 0, 0, 0, 0, 0, 0, 0, 0, 0, 0, 0]\n",
      "Vector reppresenting block[20]\n",
      "vector2:[0, 0, 0, 0, 0, 0, 4, 0, 0, 0, 0, 0, 0, 0, 0, 0, 0, 0, 0, 0, 0, 0, 0, 0, 0, 0, 0, 0, 0, 0, 0, 0, 2, 2, 3, 2, 1, 1, 1, 1, 1, 1, 1, 1, 1, 1, 1, 1, 2, 1, 1, 1, 1, 1, 1, 1, 1, 1, 1, 1, 1, 1, 1, 1, 1, 1, 1]\n",
      "Cohesion tra vector1 e vector2: 0.26853803465494047\n",
      "--------------------------------------------------------\n",
      "Vector reppresenting block[20]\n",
      "vector1:[4, 2, 2, 3, 2, 1, 1, 1, 1, 1, 1, 1, 1, 1, 1, 1, 1, 2, 1, 1, 1, 1, 1, 1, 1, 1, 1, 1, 1, 1, 1, 1, 1, 1, 1, 1, 0, 0, 0, 0, 0, 0, 0, 0, 0, 0, 0, 0, 0, 0, 0, 0, 0, 0, 0, 0, 0, 0, 0, 0, 0, 0, 0, 0, 0]\n",
      "Vector reppresenting block[21]\n",
      "vector2:[2, 0, 0, 0, 0, 1, 0, 0, 0, 0, 0, 0, 0, 0, 0, 0, 0, 0, 0, 0, 0, 0, 0, 0, 0, 0, 0, 0, 0, 0, 0, 0, 0, 0, 0, 0, 1, 1, 1, 1, 1, 1, 1, 1, 2, 2, 1, 1, 1, 1, 1, 1, 1, 1, 1, 1, 1, 1, 1, 1, 1, 1, 1, 1, 1]\n",
      "Cohesion tra vector1 e vector2: 0.16888199063418033\n",
      "--------------------------------------------------------\n",
      "Vector reppresenting block[21]\n",
      "vector1:[1, 1, 1, 1, 1, 1, 2, 1, 1, 2, 2, 1, 1, 1, 1, 1, 1, 1, 1, 1, 1, 1, 1, 1, 1, 1, 1, 1, 1, 1, 1, 0, 0, 0, 0, 0, 0, 0, 0, 0, 0, 0, 0, 0, 0, 0, 0, 0, 0, 0, 0, 0, 0, 0, 0, 0, 0, 0, 0, 0, 0, 0, 0, 0, 0, 0, 0, 0, 0, 0, 0, 0, 0, 0, 0, 0, 0, 0, 0, 0, 0, 0, 0, 0, 0]\n",
      "Vector reppresenting block[22]\n",
      "vector2:[1, 0, 0, 0, 0, 0, 0, 0, 0, 0, 0, 0, 0, 0, 0, 0, 0, 0, 0, 0, 0, 0, 0, 0, 0, 1, 0, 0, 0, 1, 0, 1, 1, 1, 1, 1, 1, 1, 1, 1, 1, 1, 1, 2, 1, 1, 1, 1, 1, 1, 3, 1, 1, 1, 1, 1, 1, 1, 2, 1, 1, 1, 1, 1, 1, 1, 1, 1, 2, 2, 2, 1, 1, 1, 1, 1, 1, 1, 1, 1, 1, 1, 1, 1, 1]\n",
      "Cohesion tra vector1 e vector2: 0.05303300858899106\n",
      "--------------------------------------------------------\n",
      "Vector reppresenting block[22]\n",
      "vector1:[1, 1, 1, 1, 1, 1, 1, 1, 1, 1, 1, 1, 2, 1, 1, 1, 1, 1, 1, 1, 3, 1, 1, 1, 1, 1, 1, 1, 1, 2, 1, 1, 1, 1, 1, 1, 1, 1, 1, 2, 2, 2, 1, 1, 1, 1, 1, 1, 1, 1, 1, 1, 1, 1, 1, 1, 1, 0, 0, 0, 0, 0, 0, 0, 0, 0, 0, 0, 0, 0, 0, 0, 0, 0, 0, 0, 0, 0, 0, 0, 0, 0, 0, 0, 0, 0, 0, 0, 0, 0, 0, 0, 0, 0, 0, 0, 0, 0, 0, 0, 0, 0, 0, 0, 0, 0, 0, 0, 0, 0, 0, 0]\n",
      "Vector reppresenting block[23]\n",
      "vector2:[0, 1, 0, 0, 0, 0, 0, 0, 0, 0, 0, 0, 0, 0, 0, 0, 0, 0, 0, 0, 0, 0, 0, 1, 0, 1, 0, 0, 0, 0, 0, 0, 0, 0, 0, 0, 0, 0, 0, 0, 0, 0, 0, 0, 0, 0, 0, 0, 0, 0, 0, 0, 0, 0, 0, 0, 0, 1, 1, 1, 1, 1, 1, 1, 2, 1, 1, 1, 1, 1, 1, 1, 1, 1, 2, 1, 1, 2, 1, 1, 1, 2, 1, 1, 1, 1, 1, 1, 1, 1, 1, 1, 1, 1, 2, 2, 1, 1, 1, 2, 1, 1, 1, 1, 1, 1, 1, 1, 1, 1, 1, 1]\n",
      "Cohesion tra vector1 e vector2: 0.03773659540699707\n",
      "--------------------------------------------------------\n",
      "Vector reppresenting block[23]\n",
      "vector1:[1, 1, 1, 1, 1, 1, 1, 1, 2, 1, 1, 1, 1, 1, 1, 1, 1, 1, 2, 1, 1, 2, 1, 1, 1, 2, 1, 1, 1, 1, 1, 1, 1, 1, 1, 1, 1, 1, 2, 2, 1, 1, 1, 2, 1, 1, 1, 1, 1, 1, 1, 1, 1, 1, 1, 1, 1, 1, 0, 0, 0, 0, 0, 0, 0, 0, 0, 0, 0, 0, 0, 0, 0, 0, 0, 0, 0, 0, 0, 0, 0, 0, 0, 0, 0, 0, 0, 0, 0, 0, 0, 0, 0, 0, 0, 0, 0, 0, 0, 0, 0, 0, 0, 0, 0, 0, 0, 0, 0, 0, 0, 0]\n",
      "Vector reppresenting block[24]\n",
      "vector2:[0, 0, 0, 0, 0, 0, 0, 0, 0, 0, 0, 0, 0, 0, 0, 0, 0, 0, 0, 0, 0, 0, 1, 0, 0, 6, 0, 0, 0, 0, 0, 0, 0, 0, 0, 0, 0, 0, 1, 0, 0, 0, 0, 0, 0, 0, 0, 0, 0, 0, 1, 0, 1, 0, 0, 0, 0, 1, 1, 1, 1, 1, 1, 1, 1, 1, 1, 1, 1, 1, 1, 1, 1, 1, 2, 1, 1, 1, 1, 1, 1, 1, 1, 1, 1, 1, 1, 1, 1, 1, 1, 1, 1, 1, 1, 1, 2, 1, 1, 1, 1, 1, 1, 1, 1, 1, 1, 1, 1, 1, 1, 1]\n",
      "Cohesion tra vector1 e vector2: 0.2015107746618034\n",
      "--------------------------------------------------------\n",
      "Vector reppresenting block[24]\n",
      "vector1:[1, 1, 1, 1, 1, 1, 1, 1, 1, 1, 1, 1, 1, 1, 1, 1, 1, 1, 2, 1, 1, 1, 1, 6, 1, 1, 1, 1, 1, 1, 1, 1, 1, 1, 1, 1, 1, 1, 1, 1, 1, 1, 1, 1, 2, 1, 1, 1, 1, 1, 1, 1, 1, 1, 1, 1, 1, 1, 1, 1, 0, 0, 0, 0, 0, 0, 0, 0, 0, 0, 0, 0, 0, 0, 0, 0, 0, 0, 0, 0, 0, 0, 0, 0, 0, 0, 0, 0, 0, 0, 0, 0, 0, 0, 0, 0, 0, 0, 0, 0, 0, 0, 0, 0, 0, 0, 0, 0, 0, 0, 0, 0, 0, 0, 0, 0]\n",
      "Vector reppresenting block[25]\n",
      "vector2:[0, 0, 0, 0, 0, 0, 0, 0, 0, 0, 0, 2, 0, 0, 0, 0, 0, 0, 0, 0, 1, 0, 0, 3, 0, 0, 0, 0, 0, 0, 0, 0, 0, 0, 0, 0, 0, 1, 0, 0, 0, 1, 0, 0, 1, 0, 0, 0, 0, 0, 0, 0, 0, 0, 0, 0, 0, 0, 0, 2, 1, 1, 1, 1, 1, 1, 1, 2, 1, 1, 1, 1, 1, 1, 1, 1, 1, 1, 2, 2, 1, 1, 1, 1, 1, 1, 1, 1, 1, 1, 1, 1, 1, 1, 1, 1, 1, 1, 1, 1, 1, 1, 1, 1, 1, 1, 1, 1, 1, 1, 1, 1, 1, 1, 1, 1]\n",
      "Cohesion tra vector1 e vector2: 0.289703573084431\n",
      "--------------------------------------------------------\n",
      "Vector reppresenting block[25]\n",
      "vector1:[1, 1, 1, 1, 2, 1, 1, 3, 1, 1, 2, 1, 1, 1, 1, 1, 1, 1, 1, 1, 1, 2, 2, 1, 1, 1, 1, 1, 1, 1, 1, 1, 1, 1, 1, 1, 1, 1, 1, 1, 1, 1, 1, 1, 1, 1, 1, 1, 1, 1, 2, 1, 1, 1, 1, 1, 1, 1, 1, 1, 1, 1, 1, 0, 0, 0, 0, 0, 0, 0, 0, 0, 0, 0, 0, 0, 0, 0, 0, 0, 0, 0, 0, 0, 0, 0, 0, 0, 0, 0, 0, 0, 0, 0, 0, 0, 0, 0, 0, 0, 0, 0, 0, 0, 0, 0, 0, 0, 0, 0, 0, 0, 0, 0, 0, 0, 0, 0, 0]\n",
      "Vector reppresenting block[26]\n",
      "vector2:[0, 0, 0, 0, 0, 0, 0, 5, 0, 0, 1, 0, 0, 0, 0, 0, 0, 0, 0, 0, 0, 0, 0, 0, 0, 0, 0, 0, 0, 0, 0, 0, 1, 0, 0, 0, 0, 0, 0, 0, 0, 0, 0, 0, 0, 0, 0, 0, 0, 0, 1, 0, 0, 0, 0, 0, 0, 0, 0, 0, 0, 0, 0, 1, 1, 1, 1, 1, 1, 1, 1, 1, 1, 1, 1, 1, 1, 1, 2, 1, 1, 1, 1, 1, 1, 1, 1, 1, 1, 3, 1, 1, 1, 1, 1, 1, 1, 1, 1, 2, 1, 1, 1, 1, 1, 1, 1, 1, 1, 1, 1, 1, 1, 1, 1, 1, 1, 1, 1]\n",
      "Cohesion tra vector1 e vector2: 0.21785510047514953\n",
      "--------------------------------------------------------\n",
      "Vector reppresenting block[26]\n",
      "vector1:[1, 1, 1, 1, 1, 1, 1, 1, 1, 1, 1, 1, 1, 1, 1, 1, 1, 1, 2, 1, 1, 1, 1, 1, 5, 1, 1, 1, 1, 1, 3, 1, 1, 1, 1, 1, 1, 1, 1, 1, 2, 1, 1, 1, 1, 1, 1, 1, 1, 1, 1, 1, 1, 1, 1, 1, 1, 1, 1, 1, 0, 0, 0, 0, 0, 0, 0, 0, 0, 0, 0, 0, 0, 0, 0, 0, 0, 0, 0, 0, 0, 0, 0, 0, 0, 0, 0, 0]\n",
      "Vector reppresenting block[27]\n",
      "vector2:[0, 0, 0, 0, 0, 0, 0, 0, 0, 0, 0, 0, 0, 0, 0, 0, 0, 0, 0, 0, 0, 0, 0, 0, 0, 0, 0, 0, 0, 0, 0, 0, 0, 0, 0, 0, 0, 0, 0, 0, 0, 0, 0, 0, 0, 0, 0, 0, 0, 0, 0, 0, 0, 0, 0, 0, 0, 0, 0, 0, 3, 3, 1, 4, 2, 1, 1, 1, 2, 2, 3, 1, 1, 1, 1, 1, 1, 1, 1, 1, 1, 1, 1, 1, 1, 1, 1, 1]\n",
      "Cohesion tra vector1 e vector2: 0.0\n",
      "--------------------------------------------------------\n",
      "Vector reppresenting block[27]\n",
      "vector1:[3, 3, 1, 4, 2, 1, 1, 1, 2, 2, 3, 1, 1, 1, 1, 1, 1, 1, 1, 1, 1, 1, 1, 1, 1, 1, 1, 1, 0, 0, 0, 0, 0, 0, 0, 0, 0, 0, 0, 0, 0, 0, 0, 0, 0, 0, 0, 0, 0, 0, 0, 0, 0, 0, 0, 0, 0, 0, 0, 0, 0, 0, 0, 0, 0, 0]\n",
      "Vector reppresenting block[28]\n",
      "vector2:[2, 0, 0, 0, 0, 0, 0, 0, 0, 0, 2, 0, 0, 1, 0, 0, 2, 1, 0, 0, 1, 0, 0, 0, 0, 0, 0, 0, 1, 1, 2, 1, 1, 1, 1, 1, 1, 1, 1, 2, 1, 1, 1, 1, 1, 1, 1, 1, 1, 1, 1, 1, 1, 1, 1, 1, 1, 1, 1, 1, 1, 1, 1, 1, 1, 1]\n",
      "Cohesion tra vector1 e vector2: 0.25387276871303704\n",
      "--------------------------------------------------------\n",
      "Vector reppresenting block[28]\n",
      "vector1:[1, 1, 2, 2, 1, 1, 1, 1, 1, 1, 1, 1, 2, 1, 1, 1, 1, 1, 1, 2, 1, 1, 1, 1, 1, 1, 1, 1, 1, 1, 1, 1, 1, 1, 1, 1, 1, 2, 1, 1, 1, 1, 1, 1, 0, 0, 0, 0, 0, 0, 0, 0, 0, 0, 0, 0, 0, 0, 0, 0, 0, 0, 0, 0, 0, 0, 0, 0, 0, 0, 0, 0, 0, 0, 0, 0, 0, 0, 0, 0, 0, 0]\n",
      "Vector reppresenting block[29]\n",
      "vector2:[0, 0, 3, 0, 0, 0, 0, 0, 0, 0, 0, 0, 0, 0, 0, 0, 0, 0, 1, 0, 0, 0, 0, 0, 1, 0, 0, 0, 0, 2, 0, 0, 0, 0, 1, 0, 0, 0, 0, 0, 1, 1, 1, 0, 1, 1, 3, 1, 1, 1, 1, 1, 1, 1, 1, 1, 1, 2, 2, 1, 2, 1, 1, 1, 1, 1, 1, 1, 1, 1, 1, 1, 1, 2, 2, 2, 1, 1, 1, 1, 1, 1]\n",
      "Cohesion tra vector1 e vector2: 0.20006125261743324\n",
      "--------------------------------------------------------\n",
      "Vector reppresenting block[29]\n",
      "vector1:[1, 1, 3, 1, 1, 1, 1, 1, 1, 1, 3, 1, 1, 1, 1, 1, 1, 2, 2, 1, 2, 1, 1, 1, 1, 1, 1, 1, 1, 1, 1, 1, 1, 1, 1, 2, 2, 2, 1, 1, 2, 1, 1, 1, 1, 1, 0, 0, 0, 0, 0, 0, 0, 0, 0, 0, 0, 0, 0, 0, 0, 0, 0, 0, 0, 0, 0, 0, 0, 0, 0, 0, 0, 0, 0, 0, 0, 0, 0]\n",
      "Vector reppresenting block[30]\n",
      "vector2:[0, 0, 0, 0, 0, 0, 0, 0, 0, 0, 4, 0, 0, 0, 0, 0, 0, 0, 0, 0, 0, 0, 0, 0, 0, 0, 0, 0, 0, 0, 0, 0, 0, 0, 0, 0, 0, 0, 0, 0, 0, 0, 0, 0, 0, 0, 1, 1, 3, 1, 1, 1, 1, 1, 1, 1, 1, 1, 1, 1, 1, 1, 1, 1, 1, 1, 1, 1, 1, 1, 1, 1, 1, 1, 1, 1, 1, 1, 1]\n",
      "Cohesion tra vector1 e vector2: 0.1744635768067738\n",
      "--------------------------------------------------------\n",
      "Vector reppresenting block[30]\n",
      "vector1:[1, 1, 4, 3, 1, 1, 1, 1, 1, 1, 1, 1, 1, 1, 1, 1, 1, 1, 1, 1, 1, 1, 1, 1, 1, 1, 1, 1, 1, 1, 1, 1, 1, 1, 0, 0, 0, 0, 0, 0, 0, 0, 0, 0, 0, 0, 0, 0, 0, 0, 0, 0, 0, 0, 0, 0, 0, 0, 0, 0, 0, 0, 0, 0, 0, 0, 0, 0, 0, 0]\n",
      "Vector reppresenting block[31]\n",
      "vector2:[0, 0, 1, 0, 0, 0, 0, 0, 0, 0, 0, 0, 0, 0, 0, 0, 0, 0, 0, 0, 1, 0, 0, 0, 0, 0, 0, 1, 1, 1, 0, 1, 0, 0, 1, 1, 1, 1, 1, 1, 1, 1, 1, 1, 1, 2, 1, 2, 2, 1, 1, 1, 2, 1, 1, 1, 1, 1, 1, 1, 1, 1, 1, 1, 1, 1, 1, 1, 1, 1]\n",
      "Cohesion tra vector1 e vector2: 0.16222142113076254\n",
      "--------------------------------------------------------\n",
      "Vector reppresenting block[31]\n",
      "vector1:[1, 1, 1, 1, 1, 1, 1, 1, 1, 1, 1, 1, 1, 1, 1, 2, 1, 2, 2, 1, 1, 1, 2, 1, 1, 1, 1, 1, 1, 1, 1, 1, 1, 1, 1, 1, 1, 1, 1, 1, 1, 1, 0, 0, 0, 0, 0, 0, 0, 0, 0, 0, 0, 0, 0, 0, 0, 0, 0, 0, 0, 0, 0, 0, 0, 0, 0, 0, 0, 0, 0, 0, 0, 0, 0, 0, 0, 0, 0, 0, 0, 0, 0, 0, 0, 0, 0, 0, 0, 0, 0, 0, 0]\n",
      "Vector reppresenting block[32]\n",
      "vector2:[0, 0, 0, 0, 0, 0, 0, 0, 0, 0, 0, 0, 0, 0, 0, 3, 0, 3, 3, 0, 0, 0, 0, 0, 0, 0, 0, 0, 0, 0, 1, 0, 0, 0, 0, 0, 0, 0, 0, 0, 0, 1, 1, 1, 1, 1, 1, 1, 1, 1, 1, 1, 2, 1, 2, 1, 1, 1, 1, 1, 1, 1, 2, 1, 1, 1, 2, 1, 1, 1, 1, 2, 1, 1, 1, 1, 1, 1, 1, 1, 1, 1, 1, 1, 1, 1, 1, 1, 1, 1, 1, 1, 1]\n",
      "Cohesion tra vector1 e vector2: 0.27923593886113035\n",
      "--------------------------------------------------------\n",
      "Vector reppresenting block[32]\n",
      "vector1:[1, 1, 1, 1, 1, 3, 3, 1, 1, 1, 1, 3, 1, 2, 1, 2, 1, 1, 1, 1, 1, 1, 1, 2, 1, 1, 1, 2, 1, 1, 1, 1, 2, 1, 1, 1, 1, 1, 1, 1, 1, 1, 1, 1, 1, 1, 1, 1, 1, 1, 1, 1, 1, 1, 1, 1, 0, 0, 0, 0, 0, 0, 0, 0, 0, 0, 0, 0, 0, 0, 0, 0, 0, 0, 0, 0, 0, 0, 0, 0, 0, 0, 0, 0, 0, 0, 0, 0, 0, 0, 0, 0, 0, 0, 0, 0, 0, 0, 0, 0, 0, 0, 0, 0, 0, 0, 0, 0, 0, 0, 0, 0, 0, 0, 0, 0]\n",
      "Vector reppresenting block[33]\n",
      "vector2:[0, 0, 0, 0, 0, 1, 0, 0, 1, 0, 0, 1, 1, 1, 0, 0, 0, 1, 0, 0, 0, 0, 2, 0, 0, 0, 0, 1, 0, 1, 0, 0, 0, 2, 0, 0, 0, 1, 0, 0, 1, 0, 0, 0, 1, 0, 0, 0, 1, 0, 0, 0, 0, 0, 0, 0, 1, 1, 1, 1, 1, 1, 1, 1, 1, 1, 2, 1, 1, 1, 1, 3, 1, 1, 1, 1, 1, 1, 1, 1, 1, 1, 1, 1, 1, 1, 1, 1, 1, 1, 1, 1, 1, 1, 1, 1, 1, 1, 1, 1, 1, 1, 1, 1, 1, 1, 1, 1, 1, 1, 1, 1, 1, 1, 1, 1]\n",
      "Cohesion tra vector1 e vector2: 0.23661386084507793\n",
      "--------------------------------------------------------\n",
      "Vector reppresenting block[33]\n",
      "vector1:[1, 1, 1, 1, 2, 1, 1, 1, 1, 1, 1, 1, 1, 2, 1, 1, 1, 1, 1, 3, 1, 1, 1, 1, 1, 1, 1, 1, 1, 1, 1, 1, 1, 1, 1, 1, 1, 1, 1, 1, 1, 1, 1, 2, 1, 1, 1, 1, 1, 1, 1, 1, 1, 1, 1, 1, 1, 1, 1, 1, 1, 1, 1, 1, 1, 1, 1, 1, 1, 1, 1, 1, 1, 1, 0, 0, 0, 0, 0, 0, 0, 0, 0, 0, 0, 0, 0, 0, 0, 0, 0, 0, 0, 0, 0, 0, 0, 0, 0, 0, 0, 0, 0, 0, 0, 0, 0, 0, 0, 0, 0, 0, 0, 0, 0, 0, 0, 0, 0, 0, 0, 0, 0, 0, 0]\n",
      "Vector reppresenting block[34]\n",
      "vector2:[0, 0, 0, 0, 2, 2, 0, 0, 0, 1, 0, 0, 0, 0, 0, 0, 0, 0, 0, 0, 0, 0, 0, 0, 0, 0, 0, 0, 0, 0, 0, 1, 1, 1, 0, 0, 0, 0, 0, 0, 0, 1, 0, 0, 0, 0, 0, 0, 0, 0, 0, 0, 0, 0, 0, 0, 0, 0, 0, 0, 0, 1, 0, 0, 0, 0, 0, 0, 2, 0, 1, 0, 0, 0, 1, 2, 1, 1, 1, 1, 1, 1, 1, 1, 1, 2, 1, 1, 1, 1, 1, 1, 1, 1, 1, 1, 1, 1, 1, 1, 3, 1, 2, 1, 1, 1, 1, 1, 1, 1, 2, 1, 1, 1, 1, 1, 1, 1, 1, 1, 1, 1, 1, 1, 1]\n",
      "Cohesion tra vector1 e vector2: 0.16574838603294897\n",
      "--------------------------------------------------------\n",
      "Vector reppresenting block[34]\n",
      "vector1:[1, 2, 1, 1, 1, 1, 1, 1, 1, 1, 1, 2, 1, 1, 1, 2, 1, 1, 1, 2, 2, 1, 1, 1, 1, 1, 1, 1, 1, 1, 1, 3, 1, 2, 1, 1, 1, 1, 1, 1, 1, 1, 1, 2, 1, 1, 1, 1, 1, 1, 1, 1, 1, 1, 1, 1, 1, 1, 1, 1, 1, 0, 0, 0, 0, 0, 0, 0, 0, 0, 0, 0, 0, 0, 0, 0, 0, 0, 0, 0, 0, 0, 0, 0, 0, 0, 0, 0, 0, 0, 0, 0, 0, 0, 0, 0, 0, 0, 0, 0, 0, 0, 0, 0, 0]\n",
      "Vector reppresenting block[35]\n",
      "vector2:[0, 0, 0, 0, 0, 0, 0, 0, 0, 0, 0, 0, 0, 0, 0, 0, 0, 0, 0, 0, 0, 0, 1, 0, 0, 0, 0, 0, 0, 0, 0, 0, 0, 0, 0, 0, 0, 1, 0, 0, 0, 0, 0, 0, 0, 0, 0, 0, 0, 0, 0, 1, 0, 0, 2, 0, 0, 0, 0, 0, 0, 1, 1, 2, 1, 2, 1, 3, 1, 1, 1, 1, 1, 1, 1, 1, 1, 1, 1, 1, 1, 2, 1, 1, 1, 1, 1, 1, 1, 1, 2, 1, 1, 1, 1, 1, 1, 1, 1, 1, 1, 1, 1, 1, 1]\n",
      "Cohesion tra vector1 e vector2: 0.06254888542006679\n",
      "--------------------------------------------------------\n",
      "Vector reppresenting block[35]\n",
      "vector1:[1, 1, 2, 1, 2, 2, 1, 3, 1, 1, 1, 1, 1, 1, 1, 1, 1, 1, 1, 1, 1, 1, 1, 2, 1, 1, 1, 1, 1, 1, 1, 1, 1, 2, 1, 1, 1, 1, 1, 1, 1, 1, 1, 1, 1, 1, 1, 1, 0, 0, 0, 0, 0, 0, 0, 0, 0, 0, 0, 0, 0, 0, 0, 0, 0, 0, 0, 0, 0, 0, 0, 0, 0, 0, 0, 0, 0, 0, 0, 0, 0]\n",
      "Vector reppresenting block[36]\n",
      "vector2:[0, 0, 1, 0, 0, 0, 0, 5, 0, 0, 0, 0, 0, 0, 0, 0, 0, 0, 0, 0, 0, 0, 0, 4, 0, 0, 0, 0, 0, 1, 0, 0, 1, 1, 2, 2, 0, 0, 0, 0, 0, 0, 0, 0, 1, 2, 0, 0, 1, 1, 2, 1, 1, 1, 1, 1, 1, 1, 1, 1, 1, 1, 2, 1, 1, 1, 1, 1, 2, 1, 1, 1, 1, 1, 1, 1, 1, 1, 2, 1, 1]\n",
      "Cohesion tra vector1 e vector2: 0.42097345725843804\n",
      "--------------------------------------------------------\n",
      "Vector reppresenting block[36]\n",
      "vector1:[1, 1, 1, 2, 1, 1, 1, 1, 1, 1, 1, 1, 1, 1, 2, 2, 1, 1, 1, 1, 2, 1, 1, 2, 1, 1, 5, 4, 1, 2, 1, 1, 1, 1, 1, 1, 1, 1, 1, 2, 1, 1, 1, 0, 0, 0, 0, 0, 0, 0, 0, 0, 0, 0, 0, 0, 0, 0, 0, 0, 0, 0]\n",
      "Vector reppresenting block[37]\n",
      "vector2:[0, 0, 0, 0, 0, 0, 0, 0, 0, 0, 0, 0, 0, 0, 0, 1, 0, 0, 0, 0, 0, 0, 0, 1, 0, 0, 1, 1, 0, 0, 0, 1, 0, 0, 0, 0, 0, 0, 0, 0, 0, 0, 0, 1, 1, 1, 1, 1, 1, 1, 1, 1, 1, 1, 1, 1, 1, 1, 1, 1, 1, 2]\n",
      "Cohesion tra vector1 e vector2: 0.265477391194668\n",
      "--------------------------------------------------------\n"
     ]
    }
   ],
   "source": [
    "import math\n",
    "from nltk.corpus import stopwords\n",
    "stopword = stopwords.words('english')\n",
    "for i in range(len(blocks) - 1):\n",
    "    block1 = blocks[i]\n",
    "    block2 = blocks[i + 1]\n",
    "    word_union = []\n",
    "    for sentence in block1:\n",
    "        for word in sentence.split(' '):\n",
    "            if word not in word_union and word not in stopword:\n",
    "                word_union.append(word)\n",
    "    for sentence in block2:\n",
    "        for word in sentence.split(' '):\n",
    "            if word not in word_union and word not in stopword:\n",
    "                word_union.append(word)\n",
    "    vector1 = [0] * len(word_union)\n",
    "    vector2 = [0] * len(word_union)\n",
    "    for sentence in block1:\n",
    "        for word in sentence.split(' '):\n",
    "            if word in word_union:\n",
    "                vector1[word_union.index(word)] += 1\n",
    "    for sentence in block2:\n",
    "        for word in sentence.split(' '):\n",
    "            if word in word_union:\n",
    "                vector2[word_union.index(word)] += 1\n",
    "    numerator = 0\n",
    "    sum1 = 0\n",
    "    sum2 = 0\n",
    "    for k in range(len(vector1)):\n",
    "        numerator += vector1[k] * vector2[k]\n",
    "        sum1 += (vector1[k] * vector1[k])\n",
    "        sum2 += (vector2[k] * vector2[k])\n",
    "\n",
    "    denominator = math.sqrt(sum1) * math.sqrt(sum2)\n",
    "    plot[i] = numerator / denominator\n",
    "\n",
    "    print(f'Vector reppresenting block[{i}]\\nvector1:{vector1}')\n",
    "    print(f'Vector reppresenting block[{i + 1}]\\nvector2:{vector2}')\n",
    "    print(f'Cohesion tra vector1 e vector2: {plot[i]}')\n",
    "    print('--------------------------------------------------------')"
   ],
   "metadata": {
    "collapsed": false,
    "ExecuteTime": {
     "end_time": "2024-06-17T10:12:48.937449Z",
     "start_time": "2024-06-17T10:12:48.878177Z"
    }
   },
   "id": "2d39eae8b1f0a523",
   "execution_count": 19
  },
  {
   "cell_type": "markdown",
   "source": [
    "### Cattura dei minimi\n",
    "Grazie alla libreria *scipy* prendiamo tutti i minimi della funzione e li analizziamo andando a catturare solamente quelli che rispettano una certa soglia. In particolare, si calcola un primo delta tra il minimo e il suo valore precedente e un secondo delta tra il valore successivo e il minimo. Successivamente si prende il minimo se ha almeno uno dei due delta maggiore della soglia impostata."
   ],
   "metadata": {
    "collapsed": false
   },
   "id": "ea8b2d277809a9cc"
  },
  {
   "cell_type": "code",
   "outputs": [
    {
     "name": "stdout",
     "output_type": "stream",
     "text": [
      "Minimus: [4, 7, 12, 16, 18, 22, 26, 30, 34]\n",
      "Threshold scelto: 0.166\n",
      "Delta in 4 between prev_value and min_value is: 0.08668614829770402\n",
      "Delta in 4 between succ_value and min_value is:  0.10076669214392492\n",
      "Delta in 7 between prev_value and min_value is: 0.02894051430587194\n",
      "Delta in 7 between succ_value and min_value is:  0.011244786016079866\n",
      "Delta in 12 between prev_value and min_value is: 0.05108748287913834\n",
      "Delta in 12 between succ_value and min_value is:  0.008067738849569989\n",
      "Delta in 16 between prev_value and min_value is: 0.0263492593021665\n",
      "Delta in 16 between succ_value and min_value is:  0.16974997094559663\n",
      "16 is a minimum where a segment should be\n",
      "Delta in 18 between prev_value and min_value is: 0.07087280470485091\n",
      "Delta in 18 between succ_value and min_value is:  0.13308094235922122\n",
      "Delta in 22 between prev_value and min_value is: 0.015296413181993984\n",
      "Delta in 22 between succ_value and min_value is:  0.1637741792548063\n",
      "Delta in 26 between prev_value and min_value is: 0.21785510047514953\n",
      "Delta in 26 between succ_value and min_value is:  0.25387276871303704\n",
      "26 is a minimum where a segment should be\n",
      "Delta in 30 between prev_value and min_value is: 0.012242155676011252\n",
      "Delta in 30 between succ_value and min_value is:  0.1170145177303678\n",
      "Delta in 34 between prev_value and min_value is: 0.10319950061288219\n",
      "Delta in 34 between succ_value and min_value is:  0.3584245718383713\n",
      "34 is a minimum where a segment should be\n"
     ]
    }
   ],
   "source": [
    "import numpy as np\n",
    "from scipy.signal import argrelextrema\n",
    "minimums = argrelextrema(np.array(plot), np.less)[0].tolist()\n",
    "threshold = 0.166\n",
    "print(f'Minimus: {minimums}')\n",
    "print('Threshold scelto:', threshold)\n",
    "real_minimums = []\n",
    "for minimum in minimums:\n",
    "    min_value = plot[minimum]\n",
    "    prev_value = None\n",
    "    succ_value = None\n",
    "    if minimum - 1 >= 0:\n",
    "        prev_value = plot[minimum - 1]\n",
    "    if minimum + 1 < len(plot):\n",
    "        succ_value = plot[minimum + 1]\n",
    "\n",
    "    if prev_value is not None:\n",
    "        print(f\"Delta in {minimum} between prev_value and min_value is:\", (prev_value - min_value))\n",
    "    if succ_value is not None:\n",
    "        print(f\"Delta in {minimum} between succ_value and min_value is: \", (succ_value - min_value))\n",
    "\n",
    "    if prev_value is not None and (prev_value - min_value) > threshold:\n",
    "        print(f'{minimum} is a minimum where a segment should be')\n",
    "        real_minimums.append(minimum)\n",
    "    elif succ_value is not None and (succ_value - min_value) > threshold:\n",
    "        print(f'{minimum} is a minimum where a segment should be')\n",
    "        real_minimums.append(minimum)"
   ],
   "metadata": {
    "collapsed": false,
    "ExecuteTime": {
     "end_time": "2024-06-17T10:27:31.404916Z",
     "start_time": "2024-06-17T10:27:31.396206Z"
    }
   },
   "id": "70b941ff8a3d3627",
   "execution_count": 33
  },
  {
   "cell_type": "markdown",
   "source": [
    "### Divisione del testo in segmenti\n",
    "In questa fase creiamo il vettore *positions* che contiene gli indici che delimitano i segmenti del testo calcolati con i minimi. Successivamente si divide il testo in segmenti seguendo le posizioni contenute in *positions*."
   ],
   "metadata": {
    "collapsed": false
   },
   "id": "fcf7567e534861ca"
  },
  {
   "cell_type": "code",
   "outputs": [
    {
     "name": "stdout",
     "output_type": "stream",
     "text": [
      "Positions:  [0, 68, 108, 140, 150]\n",
      "Segments: \n",
      "segmento 0: [\"Philosophy ('love of wisdom', in Ancient Greek) is a systematic study of general and fundamental questions concerning topics like existence, reason, knowledge, value, mind, and language\", 'It is a rational and critical inquiry that reflects on its own methods and assumptions', 'Historically, many of the individual sciences, such as physics and psychology, formed part of philosophy', 'However, they are considered separate academic disciplines in the modern sense of the term', 'Influential traditions in the history of philosophy include Western, Arabic–Persian, Indian, and Chinese philosophy', 'Western philosophy originated in Ancient Greece and covers a wide area of philosophical subfields', 'A central topic in Arabic–Persian philosophy is the relation between reason and revelation', 'Indian philosophy combines the spiritual problem of how to reach enlightenment with the exploration of the nature of reality and the ways of arriving at knowledge', 'Chinese philosophy focuses principally on practical issues in relation to right social conduct, government, and self-cultivation', 'Major branches of philosophy are epistemology, ethics, logic, and metaphysics', 'Epistemology studies what knowledge is and how to acquire it', 'Ethics investigates moral principles and what constitutes right conduct', 'Logic is the study of correct reasoning and explores how good arguments can be distinguished from bad ones', 'Metaphysics examines the most general features of reality, existence, objects, and properties', 'Other subfields are aesthetics, philosophy of language, philosophy of mind, philosophy of religion, philosophy of science, philosophy of mathematics, philosophy of history, and political philosophy', 'Within each branch, there are competing schools of philosophy that promote different principles, theories, or methods', 'Philosophers use a great variety of methods to arrive at philosophical knowledge', 'They include conceptual analysis, reliance on common sense and intuitions, use of thought experiments, analysis of ordinary language, description of experience, and critical questioning', 'Philosophy is related to many other fields, including the sciences, mathematics, business, law, and journalism', 'It provides an interdisciplinary perspective and studies the scope and fundamental concepts of these fields', 'It also investigates their methods and ethical implications', \"The word philosophy comes from the Ancient Greek words (philos) 'love' and (sophia) 'wisdom'\", 'Some sources say that the term was coined by the pre-Socratic philosopher Pythagoras, but this is not certain', 'The word entered the English language primarily from Old French and Anglo-Norman starting around 1175 CE', 'The French philosophie is itself a borrowing from the Latin philosophia', 'The term philosophy acquired the meanings of \"advanced study of the speculative subjects (logic, ethics, physics, and metaphysics)\", \"deep wisdom consisting of love of truth and virtuous living\", \"profound learning as transmitted by the ancient writers\", and \"the study of the fundamental nature of knowledge, reality, and existence, and the basic limits of human understanding\"', 'Before the modern age, the term philosophy was used in a wide sense', 'It included most forms of rational inquiry, such as the individual sciences, as its subdisciplines', 'For instance, natural philosophy was a major branch of philosophy', 'This branch of philosophy encompassed a wide range of fields, including disciplines like physics, chemistry, and biology', 'An example of this usage is the 1687 book Philosophi Naturalis Principia Mathematica by Isaac Newton', 'This book referred to natural philosophy in its title, but it is today considered a book of physics', 'The meaning of philosophy changed toward the end of the modern period when it acquired the more narrow meaning common today', 'In this new sense, the term is mainly associated with philosophical disciplines like metaphysics, epistemology, and ethics', 'Among other topics, it covers the rational study of reality, knowledge, and values', 'It is distinguished from other disciplines of rational inquiry such as the empirical sciences and mathematics', 'Western philosophy originated in Ancient Greece in the 6th century BCE with the pre-Socratics', 'They attempted to provide rational explanations of the cosmos as a whole', 'The philosophy following them was shaped by Socrates (469–399 BCE), Plato (427–347 BCE), and Aristotle (384–322 BCE)', 'They expanded the range of topics to questions like how people should act, how to arrive at knowledge, and what the nature of reality and mind is', 'The later part of the ancient period was marked by the emergence of philosophical movements, for example, Epicureanism, Stoicism, Skepticism, and Neoplatonism', 'The medieval period started in the 5th century CE', 'Its focus was on religious topics and many thinkers used ancient philosophy to explain and further elaborate Christian doctrines', 'The Renaissance period started in the 14th century and saw a renewed interest in schools of ancient philosophy, in particular Platonism', 'Humanism also emerged in this period', 'The modern period started in the 17th century', 'One of its central concerns was how philosophical and scientific knowledge are created', 'Specific importance was given to the role of reason and sensory experience', 'Many of these innovations were used in the Enlightenment movement to challenge traditional authorities', 'Several attempts to develop comprehensive systems of philosophy were made in the 19th century, for instance, by German idealism and Marxism', 'Influential developments in 20th-century philosophy were the emergence and application of formal logic, the focus on the role of language as well as pragmatism, and movements in continental philosophy like phenomenology, existentialism, and post-structuralism', 'The 20th century saw a rapid expansion of academic philosophy in terms of the number of philosophical publications and philosophers working at academic institutions', 'There was also a noticeable growth in the number of female philosophers, but they still remained underrepresented', 'Aubrey Drake Graham (born October 24, 1986), known mononymously as Drake, is a Canadian rapper, singer and actor', 'An influential figure in contemporary popular music, he has been credited with popularizing R&B sensibilities in hip hop artists', 'Gaining recognition by starring as Jimmy Brooks in the CTV teen drama series Degrassi: The Next Generation (2001–2008), Drake began his recording career in 2006 with the release of his debut mixtape, Room for Improvement (2006)', 'He followed up with the mixtapes Comeback Season (2007) and So Far Gone (2009) before signing with Young Money Entertainment', 'Drake\\'s first three albums, Thank Me Later (2010), Take Care (2011) and Nothing Was the Same (2013) were each met with commercial success, debuting atop the Billboard 200 and spawning the Billboard Hot 100-top ten singles \"Find Your Love\", \"Take Care\" (featuring Rihanna), \"Started from the Bottom\", and \"Hold On, We\\'re Going Home\" (featuring Majid Jordan)', 'Drake\\'s fourth album Views (2016) peaked the Billboard 200 for 13 non-consecutive weeks and spawned the singles \"Hotline Bling\" and his first US number one as a lead artist, \"One Dance\" (featuring WizKid and Kyla); the latter was credited for popularizing dancehall and Afrobeats in contemporary pop music', 'Views was followed by the double album Scorpion (2018), which spawned three US number-one singles: \"God\\'s Plan\", \"Nice for What\", and \"In My Feelings\"', 'His sixth album, Certified Lover Boy (2021), set the then-record (9) for most Hot 100 top-ten hits from one album; its lead single, \"Way 2 Sexy\" (featuring Future and Young Thug) peaked atop the chart', 'In 2022, he released the house-inspired album Honestly, Nevermind and his collaborative album with 21 Savage, Her Loss', 'The former album, as well as his eighth, For All the Dogs (2023), yielded the number-one singles \"Jimmy Cooks\" (featuring 21 Savage), \"Slime You Out\" (featuring SZA), and \"First Person Shooter\" (featuring JCole)', 'As an entrepreneur, Drake founded the OVO Sound record label with longtime collaborator 40 in 2012', 'In 2013, he became the \"global ambassador\" of the Toronto Raptors, joining their executive committee and later obtaining naming rights to their practice facility OVO Athletic Centre', 'In 2016, he began collaborating with Brent Hocking on the bourbon whiskey Virginia Black', 'Drake heads the OVO fashion label and the Nocta collaboration with Nike, Inc, and founded the production company DreamCrew and the fragrance house Better World', \"In 2018, he was reportedly responsible for 5 percent (CAD$440 million) of Toronto's CAD$8,8 billion annual tourism income\"]\n",
      "--------------------------------------------------------\n",
      "segmento 1: [\"Among the world's best-selling music artists, with over 170 million records sold, Drake is ranked as the highest-certified digital singles artist in the United States by the Recording Industry Association of America (RIAA)\", 'He has won five Grammy Awards, six American Music Awards, 39 Billboard Music Awards, two Brit Awards, and three Juno Awards', 'He has achieved 13 number-one hits on the Billboard Hot 100, a joint-record for the most number-one singles by a male solo artist (tied with Michael Jackson)', 'Drake holds further Hot 100 records, including the most top 10 singles (78), and the most charted songs (331)', 'From 2018 to 2023, Drake held the record for the most simultaneously charted songs in one week (27), the most Hot 100 debuts in one week (22); and held the most continuous time on the Hot 100 (431 weeks)', 'He additionally has the most number-one singles on the R&B/Hip-Hop Airplay, Hot R&B/Hip-Hop Songs, Hot Rap Songs, and Rhythmic Airplay charts', 'Pizza is a traditional Italian dish typically consisting of a flat base of leavened wheat-based dough topped with tomato, cheese, and other ingredients, baked at a high temperature, traditionally in a wood-fired oven', 'The term pizza was first recorded in the year 997 AD, in a Latin manuscript from the southern Italian town of Gaeta, in Lazio, on the border with Campania', 'Raffaele Esposito is often credited for creating modern pizza in Naples', 'In 2009, Neapolitan pizza was registered with the European Union as a traditional speciality guaranteed (TSG) dish', \"In 2017, the art of making Neapolitan pizza was added to UNESCO's list of intangible cultural heritage\", 'Pizza and its variants are among the most popular foods in the world', 'Pizza is sold at a variety of restaurants, including pizzerias (pizza specialty restaurants), Mediterranean restaurants, via delivery, and as street food', 'In Italy, pizza served in a restaurant is presented unsliced, and is eaten with the use of a knife and fork', 'In casual settings, however, it is typically cut into slices to be eaten while held in the hand', 'Pizza is also sold in grocery stores in a variety of forms, including frozen or as kits for self-assembly', 'They are then cooked using a home oven', 'In 2017, the world pizza market was US$128 billion, and in the US it was $44 billion spread over 76,000 pizzerias', 'Overall, 13% of the US population aged two years and over consumed pizza on any given day', 'Records of pizza-like foods can be found throughout ancient history', 'In the 6th century BC, the Persian soldiers of the Achaemenid Empire during the rule of Darius the Great baked flatbreads with cheese and dates on top of their battle shields and the ancient Greeks supplemented their bread with oils, herbs, and cheese', 'An early reference to a pizza-like food occurs in the Aeneid, when Celaeno, queen of the Harpies, foretells that the Trojans would not find peace until they are forced by hunger to eat their tables (Book III)', 'In Book VII, Aeneas and his men are served a meal that includes round cakes (such as pita bread) topped with cooked vegetables', 'When they eat the bread, they realize that these are the \"tables\" prophesied by Celaeno', 'In 2023, archeologists discovered a fresco in Pompeii appearing to depict a pizza-like dish among other foodstuffs and staples on a silver platter', 'Italy\\'s culture minister said it \"may be a distant ancestor of the modern dish\"', 'The first mention of the word pizza comes from a notarial document written in Latin and dating to May 997 AD from Gaeta, demanding a payment of \"twelve pizzas, a pork shoulder, and a pork kidney on Christmas Day, and 12 pizzas and a couple of chickens on Easter Day\"', 'Modern pizza evolved from similar flatbread dishes in Naples, Italy, in the 18th or early 19th century', 'Before that time, flatbread was often topped with ingredients such as garlic, salt, lard, and cheese', 'It is uncertain when tomatoes were first added and there are many conflicting claims, though it certainly could not have been before the 16th century and the Columbian Exchange', 'Pizza was sold from open-air stands and out of pizza bakeries until about 1830, when pizzerias in Naples started to have stanze with tables where clients could sit and eat their pizzas on the spot', 'A popular contemporary legend holds that the archetypal pizza, pizza Margherita, was invented in 1889, when the Royal Palace of Capodimonte commissioned the Neapolitan pizzaiolo (pizza maker) Raffaele Esposito to create a pizza in honor of the visiting Queen Margherita', 'Of the three different pizzas he created, the Queen strongly preferred a pizza swathed in the colours of the Italian flag—red (tomato), green (basil), and white (mozzarella)', 'Supposedly, this kind of pizza was then named after the Queen, with an official letter of recognition from the Queen\\'s \"head of service\" remaining to this day on display in Esposito\\'s shop, now called the Pizzeria Brandi', 'Later research cast doubt on this legend, undermining the authenticity of the letter of recognition, pointing that no media of the period reported about the supposed visit and that both the story and name Margherita were first promoted in the 1930s–1940s', 'Pizza was taken to the United States by Italian immigrants in the late nineteenth century and first appeared in areas where they concentrated', \"The country's first pizzeria, Lombardi's, opened in New York City in 1905\", \"Following World War II, veterans returning from the Italian Campaign, who were introduced to Italy's native cuisine, proved a ready market for pizza in particular\", \"The Associazione Verace Pizza Napoletana ('True Neapolitan Pizza Association') is a non-profit organization founded in 1984 with headquarters in Naples that aims to promote traditional Neapolitan pizza\", \"In 2009, upon Italy's request, Neapolitan pizza was registered with the European Union as a traditional speciality guaranteed (TSG) dish, and in 2017 the art of its making was included on UNESCO's list of intangible cultural heritage\"]\n",
      "--------------------------------------------------------\n",
      "segmento 2: ['Computer science is the study of computation, information, and automation', 'Computer science spans theoretical disciplines (such as algorithms, theory of computation, and information theory) to applied disciplines (including the design and implementation of hardware and software)', 'Algorithms and data structures are central to computer science', 'The theory of computation concerns abstract models of computation and general classes of problems that can be solved using them', 'The fields of cryptography and computer security involve studying the means for secure communication and preventing security vulnerabilities', 'Computer graphics and computational geometry address the generation of images', 'Programming language theory considers different ways to describe computational processes, and database theory concerns the management of repositories of data', 'Human–computer interaction investigates the interfaces through which humans and computers interact, and software engineering focuses on the design and principles behind developing software', 'Areas such as operating systems, networks and embedded systems investigate the principles and design behind complex systems', 'Computer architecture describes the construction of computer components and computer-operated equipment', 'Artificial intelligence and machine learning aim to synthesize goal-orientated processes such as problem-solving, decision-making, environmental adaptation, planning and learning found in humans and animals', 'Within artificial intelligence, computer vision aims to understand and process image and video data, while natural language processing aims to understand and process textual and linguistic data', 'The fundamental concern of computer science is determining what can and cannot be automated', 'The Turing Award is generally recognized as the highest distinction in computer science', 'The earliest foundations of what would become computer science predate the invention of the modern digital computer', 'Machines for calculating fixed numerical tasks such as the abacus have existed since antiquity, aiding in computations such as multiplication and division', 'Algorithms for performing computations have existed since antiquity, even before the development of sophisticated computing equipment', 'Wilhelm Schickard designed and constructed the first working mechanical calculator in 1623', 'In 1673, Gottfried Leibniz demonstrated a digital mechanical calculator, called the Stepped Reckoner', 'Leibniz may be considered the first computer scientist and information theorist, because of various reasons, including the fact that he documented the binary number system', 'In 1820, Thomas de Colmar launched the mechanical calculator industry when he invented his simplified arithmometer, the first calculating machine strong enough and reliable enough to be used daily in an office environment', 'Charles Babbage started the design of the first automatic mechanical calculator, his Difference Engine, in 1822, which eventually gave him the idea of the first programmable mechanical calculator, his Analytical Engine', 'He started developing this machine in 1834, and \"in less than two years, he had sketched out many of the salient features of the modern computer\"', '\"A crucial step was the adoption of a punched card system derived from the Jacquard loom\" making it infinitely programmable', 'In 1843, during the translation of a French article on the Analytical Engine, Ada Lovelace wrote, in one of the many notes she included, an algorithm to compute the Bernoulli numbers, which is considered to be the first published algorithm ever specifically tailored for implementation on a computer', 'Around 1885, Herman Hollerith invented the tabulator, which used punched cards to process statistical information; eventually his company became part of IBM', 'Following Babbage, although unaware of his earlier work, Percy Ludgate in 1909 published the 2nd of the only two designs for mechanical analytical engines in history', 'In 1914, the Spanish engineer Leonardo Torres Quevedo published his Essays on Automatics, and designed, inspired by Babbage, a theoretical electromechanical calculating machine which was to be controlled by a read-only program', 'The paper also introduced the idea of floating-point arithmetic', 'In 1920, to celebrate the 100th anniversary of the invention of the arithmometer, Torres presented in Paris the Electromechanical Arithmometer, a prototype that demonstrated the feasibility of an electromechanical analytical engine, on which commands could be typed and the results printed automatically', \"In 1937, one hundred years after Babbage's impossible dream, Howard Aiken convinced IBM, which was making all kinds of punched card equipment and was also in the calculator business to develop his giant programmable calculator, the ASCC/Harvard Mark I, based on Babbage's Analytical Engine, which itself used cards and a central computing unit\", 'When the machine was finished, some hailed it as \"Babbage\\'s dream come true\"']\n",
      "--------------------------------------------------------\n",
      "segmento 3: ['During the 1940s, with the development of new and more powerful computing machines such as the Atanasoff–Berry computer and ENIAC, the term computer came to refer to the machines rather than their human predecessors', 'As it became clear that computers could be used for more than just mathematical calculations, the field of computer science broadened to study computation in general', 'In 1945, IBM founded the Watson Scientific Computing Laboratory at Columbia University in New York City', \"The renovated fraternity house on Manhattan's West Side was IBM's first laboratory devoted to pure science\", \"The lab is the forerunner of IBM's Research Division, which today operates research facilities around the world\", 'Ultimately, the close relationship between IBM and Columbia University was instrumental in the emergence of a new scientific discipline, with Columbia offering one of the first academic-credit courses in computer science in 1946', 'Computer science began to be established as a distinct academic discipline in the 1950s and early 1960s', \"The world's first computer science degree program, the Cambridge Diploma in Computer Science, began at the University of Cambridge Computer Laboratory in 1953\", 'The first computer science department in the United States was formed at Purdue University in 1962', 'Since practical computers became available, many applications of computing have become distinct areas of study in their own rights']\n",
      "--------------------------------------------------------\n"
     ]
    }
   ],
   "source": [
    "segments = []\n",
    "positions = [0]\n",
    "for minimum in real_minimums:\n",
    "    pos = (block_size * minimum) + block_size\n",
    "    positions.append(pos)\n",
    "if len(real_sentences) not in positions:\n",
    "    positions.append(len(real_sentences))\n",
    "\n",
    "for j in range(len(positions) - 1):\n",
    "    segments.append(real_sentences[positions[j]:positions[j + 1]])\n",
    "print(\"Positions: \", positions)\n",
    "print(\"Segments: \")\n",
    "for n in range(len(segments)):\n",
    "    print(f'segmento {n}: {segments[n]}')\n",
    "    print('--------------------------------------------------------')"
   ],
   "metadata": {
    "collapsed": false,
    "ExecuteTime": {
     "end_time": "2024-06-17T10:20:34.120408Z",
     "start_time": "2024-06-17T10:20:34.111679Z"
    }
   },
   "id": "8bf084671b04b960",
   "execution_count": 27
  },
  {
   "cell_type": "markdown",
   "source": [
    "### Costruzione del grafico\n",
    "Infine costruiamo un grafico che rappresenterà la divisione del testo, mostrando i punti dove vengono fatte le divisioni (cioè i minimi della funzione che viene disegnata). "
   ],
   "metadata": {
    "collapsed": false
   },
   "id": "cf356db401f655a6"
  },
  {
   "cell_type": "code",
   "outputs": [
    {
     "data": {
      "text/plain": "<Figure size 640x480 with 1 Axes>",
      "image/png": "[encoded data removed]"
     },
     "metadata": {},
     "output_type": "display_data"
    }
   ],
   "source": [
    "import matplotlib.pyplot as plt\n",
    "%matplotlib inline\n",
    "x = range(len(plot))\n",
    "plt.plot(x, plot)\n",
    "plt.xticks(x)\n",
    "plt.title(f\"Block Size = {block_size}, threshold = {threshold}, number of sentences = {len(sentences)}\")\n",
    "for minimum in real_minimums:\n",
    "    plt.axvline(x=minimum, color='r')\n",
    "plt.savefig(f\"text1_{block_size}_plot.png\")"
   ],
   "metadata": {
    "collapsed": false,
    "ExecuteTime": {
     "end_time": "2024-06-17T10:20:45.687222Z",
     "start_time": "2024-06-17T10:20:44.130668Z"
    }
   },
   "id": "bd09f1a332bcce91",
   "execution_count": 28
  },
  {
   "cell_type": "code",
   "outputs": [],
   "source": [],
   "metadata": {
    "collapsed": false
   },
   "id": "3e33d0397d75ea46"
  }
 ],
 "metadata": {
  "kernelspec": {
   "display_name": "Python 3 (ipykernel)",
   "language": "python",
   "name": "python3"
  },
  "language_info": {
   "codemirror_mode": {
    "name": "ipython",
    "version": 3
   },
   "file_extension": ".py",
   "mimetype": "text/x-python",
   "name": "python",
   "nbconvert_exporter": "python",
   "pygments_lexer": "ipython3",
   "version": "3.10.12"
  }
 },
 "nbformat": 4,
 "nbformat_minor": 5
}
